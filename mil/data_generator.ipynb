{
 "cells": [
  {
   "cell_type": "code",
   "execution_count": 20,
   "metadata": {},
   "outputs": [
    {
     "name": "stdout",
     "output_type": "stream",
     "text": [
      "Datensatz: augmented, Form: (3829,), Datentyp: bool\n",
      "Datensatz: coords, Form: (3829, 2), Datentyp: int64\n",
      "Datensatz: feats, Form: (3829, 768), Datentyp: float16\n"
     ]
    }
   ],
   "source": [
    "import h5py\n",
    "\n",
    "file_path = \"test_003.h5\"\n",
    "with h5py.File(file_path, \"r\") as file:\n",
    "    def print_structure(name, obj):\n",
    "        if isinstance(obj, h5py.Group):\n",
    "            print(f\"Gruppe: {name}\")\n",
    "        elif isinstance(obj, h5py.Dataset):\n",
    "            print(f\"Datensatz: {name}, Form: {obj.shape}, Datentyp: {obj.dtype}\")\n",
    "    \n",
    "    file.visititems(print_structure)\n"
   ]
  },
  {
   "cell_type": "code",
   "execution_count": 21,
   "metadata": {},
   "outputs": [
    {
     "name": "stdout",
     "output_type": "stream",
     "text": [
      "(3829, 768)\n"
     ]
    }
   ],
   "source": [
    "with h5py.File(file_path, \"r\") as file:\n",
    "    dataset_name = \"feats\"\n",
    "    data = file[dataset_name][:]\n",
    "    print(data.shape)"
   ]
  },
  {
   "cell_type": "code",
   "execution_count": 22,
   "metadata": {},
   "outputs": [
    {
     "name": "stdout",
     "output_type": "stream",
     "text": [
      "(1000, 100, 770)\n"
     ]
    }
   ],
   "source": [
    "import random\n",
    "import numpy as np\n",
    "\n",
    "mean = np.mean(data[:, :], axis=0)\n",
    "std = np.std(data[:, :], axis=0)\n",
    "\n",
    "picture_num = 1000\n",
    "instance_num = 100\n",
    "bad_picture_num = 500\n",
    "bad_instance_num = 10\n",
    "pictures = []\n",
    "instances = []\n",
    "for i in range(picture_num):\n",
    "    for j in range(len(mean)):\n",
    "        new_data = np.random.normal(loc=mean[j], scale=std[j], size=instance_num)\n",
    "        instances.append(new_data)\n",
    "    instances = np.array(instances).T\n",
    "    instances = np.hstack((instances, np.ones((instance_num, 1)))) # labels for class 0\n",
    "    instances = np.hstack((instances, np.zeros((instance_num, 1)))) # labels for class 1\n",
    "    pictures.append(instances)\n",
    "    instances = []\n",
    "\n",
    "pictures = np.array(pictures, dtype=np.float32)\n",
    "bad_picture_indices = random.sample(range(0, picture_num), bad_picture_num)\n",
    "for i in bad_picture_indices:\n",
    "    bad_instance_indices = random.sample(range(0, instance_num), bad_instance_num)\n",
    "    for j in bad_instance_indices:\n",
    "        pictures[i][j][0:384] = 0.0 # manipulate features\n",
    "    pictures[i, :, -1] = 1.0 # switch class 1 label\n",
    "    pictures[i, :, -2] = 0.0 # switch class 0 label\n",
    "\n",
    "print(pictures.shape)\n",
    "    "
   ]
  },
  {
   "cell_type": "code",
   "execution_count": null,
   "metadata": {},
   "outputs": [],
   "source": [
    "import torch\n",
    "# store each picture in a file\n",
    "i = 0\n",
    "for picture in pictures:\n",
    "    #torch.save(torch.from_numpy(picture), f\"train_features/sample{i}.pt\")\n",
    "    torch.save(torch.from_numpy(picture), f\"test_features/sample{i}.pt\")\n",
    "    i += 1"
   ]
  }
 ],
 "metadata": {
  "kernelspec": {
   "display_name": "Python 3",
   "language": "python",
   "name": "python3"
  },
  "language_info": {
   "codemirror_mode": {
    "name": "ipython",
    "version": 3
   },
   "file_extension": ".py",
   "mimetype": "text/x-python",
   "name": "python",
   "nbconvert_exporter": "python",
   "pygments_lexer": "ipython3",
   "version": "3.12.7"
  }
 },
 "nbformat": 4,
 "nbformat_minor": 2
}
